{
 "cells": [
  {
   "cell_type": "markdown",
   "id": "58e0d93a",
   "metadata": {},
   "source": [
    "Task - 2\n",
    "Registration/referral ID - SIRSS2107\n",
    "\n",
    "Full Name: Mihir Vatsa."
   ]
  },
  {
   "cell_type": "markdown",
   "id": "1ed004f7",
   "metadata": {},
   "source": [
    "Q1. Write a lambda expression to extract first word of a string."
   ]
  },
  {
   "cell_type": "code",
   "execution_count": 1,
   "id": "2b35d45f",
   "metadata": {},
   "outputs": [
    {
     "data": {
      "text/plain": [
       "'Sky'"
      ]
     },
     "execution_count": 1,
     "metadata": {},
     "output_type": "execute_result"
    }
   ],
   "source": [
    "a = 'Sky is full of stars at Night'\n",
    "b = lambda str: str.split()[0]\n",
    "b(a)"
   ]
  },
  {
   "cell_type": "markdown",
   "id": "a6c0f921",
   "metadata": {},
   "source": [
    "Q2. Write a function to extract first word of s string (with many words separated by space)."
   ]
  },
  {
   "cell_type": "code",
   "execution_count": 2,
   "id": "2db79925",
   "metadata": {},
   "outputs": [
    {
     "name": "stdout",
     "output_type": "stream",
     "text": [
      "Sky\n"
     ]
    }
   ],
   "source": [
    "def f_name(str):\n",
    "    return str.split()[0]\n",
    "\n",
    "print(f_name(a))"
   ]
  },
  {
   "cell_type": "markdown",
   "id": "4a02c33e",
   "metadata": {},
   "source": [
    "Q3. Extract the first word from every string from a list of strings by using map function."
   ]
  },
  {
   "cell_type": "code",
   "execution_count": 3,
   "id": "744a1073",
   "metadata": {},
   "outputs": [
    {
     "data": {
      "text/plain": [
       "['Harry', 'Hermoine', 'Ron', 'Draco']"
      ]
     },
     "execution_count": 3,
     "metadata": {},
     "output_type": "execute_result"
    }
   ],
   "source": [
    "HP = ['Harry Potter', 'Hermoine Grenzer', 'Ron Weasley', 'Draco Malfoy']\n",
    "list(map(lambda s: s.split()[0], HP))"
   ]
  },
  {
   "cell_type": "markdown",
   "id": "c35c8d97",
   "metadata": {},
   "source": [
    "Q4. Write a function to return a list of prime factors of a given number."
   ]
  },
  {
   "cell_type": "code",
   "execution_count": 4,
   "id": "3440f717",
   "metadata": {},
   "outputs": [
    {
     "name": "stdout",
     "output_type": "stream",
     "text": [
      "Enter the number: 123\n",
      "[3, 41]\n"
     ]
    }
   ],
   "source": [
    "def prime(x):\n",
    "    factors = []\n",
    "    divisor = 2\n",
    "    while divisor <= x:\n",
    "        if x%divisor == 0:\n",
    "            factors.append(divisor)\n",
    "            x = x/divisor \n",
    "        else:\n",
    "            divisor += 1 \n",
    "    return factors\n",
    "\n",
    "num = input('Enter the number: ')\n",
    "print(prime(int(num)))"
   ]
  },
  {
   "cell_type": "markdown",
   "id": "1b655a02",
   "metadata": {},
   "source": [
    "Q5. Write a function that finds 2nd largest among 4 numbers (Repetitions are allowed, without sorting)."
   ]
  },
  {
   "cell_type": "code",
   "execution_count": 6,
   "id": "5fedc982",
   "metadata": {},
   "outputs": [
    {
     "name": "stdout",
     "output_type": "stream",
     "text": [
      "2 6 8 7 9 5\n",
      "8\n"
     ]
    }
   ],
   "source": [
    "def max_2(arr):\n",
    "    a = set(arr)\n",
    "    a = list(a)\n",
    "    b = max(a)\n",
    "    a.remove(b)\n",
    "    b = max(a)\n",
    "    return b\n",
    "\n",
    "l = input()\n",
    "l = l.split()\n",
    "l = list(map(int, l))\n",
    "print(max_2(l))"
   ]
  },
  {
   "cell_type": "code",
   "execution_count": null,
   "id": "bcc09414",
   "metadata": {},
   "outputs": [],
   "source": []
  }
 ],
 "metadata": {
  "kernelspec": {
   "display_name": "Python 3",
   "language": "python",
   "name": "python3"
  },
  "language_info": {
   "codemirror_mode": {
    "name": "ipython",
    "version": 3
   },
   "file_extension": ".py",
   "mimetype": "text/x-python",
   "name": "python",
   "nbconvert_exporter": "python",
   "pygments_lexer": "ipython3",
   "version": "3.8.8"
  }
 },
 "nbformat": 4,
 "nbformat_minor": 5
}
